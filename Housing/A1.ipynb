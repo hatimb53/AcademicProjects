{
 "cells": [
  {
   "cell_type": "markdown",
   "metadata": {},
   "source": [
    "# Applying various regression algorithm on housing datasets"
   ]
  },
  {
   "cell_type": "markdown",
   "metadata": {},
   "source": [
    "## Import all necessary packages"
   ]
  },
  {
   "cell_type": "code",
   "execution_count": 1,
   "metadata": {
    "collapsed": true
   },
   "outputs": [],
   "source": [
    "\n",
    "\n",
    "# To support both python 2 and python 3\n",
    "from __future__ import division, print_function, unicode_literals\n",
    "\n",
    "# Common imports\n",
    "import numpy as np\n",
    "import os\n",
    "\n",
    "# to make this notebook's output stable across runs\n",
    "np.random.seed(42)\n",
    "import pandas as pd\n",
    "# To plot pretty figures\n",
    "%matplotlib inline\n",
    "import time\n",
    "import matplotlib\n",
    "import matplotlib.pyplot as plt\n",
    "plt.rcParams['axes.labelsize'] = 14\n",
    "plt.rcParams['xtick.labelsize'] = 12\n",
    "plt.rcParams['ytick.labelsize'] = 12\n"
   ]
  },
  {
   "cell_type": "markdown",
   "metadata": {},
   "source": [
    "## Fetching data from disk"
   ]
  },
  {
   "cell_type": "code",
   "execution_count": 20,
   "metadata": {
    "collapsed": true
   },
   "outputs": [],
   "source": [
    "data=pd.read_csv('../../datasets/Assignment_data/Data_Q1/housing.csv')\n"
   ]
  },
  {
   "cell_type": "markdown",
   "metadata": {},
   "source": [
    "## Preprocessing on  datasets"
   ]
  },
  {
   "cell_type": "markdown",
   "metadata": {},
   "source": [
    "### Displaying Data"
   ]
  },
  {
   "cell_type": "code",
   "execution_count": 21,
   "metadata": {},
   "outputs": [
    {
     "data": {
      "text/html": [
       "<div>\n",
       "<style>\n",
       "    .dataframe thead tr:only-child th {\n",
       "        text-align: right;\n",
       "    }\n",
       "\n",
       "    .dataframe thead th {\n",
       "        text-align: left;\n",
       "    }\n",
       "\n",
       "    .dataframe tbody tr th {\n",
       "        vertical-align: top;\n",
       "    }\n",
       "</style>\n",
       "<table border=\"1\" class=\"dataframe\">\n",
       "  <thead>\n",
       "    <tr style=\"text-align: right;\">\n",
       "      <th></th>\n",
       "      <th>longitude</th>\n",
       "      <th>latitude</th>\n",
       "      <th>housing_median_age</th>\n",
       "      <th>total_rooms</th>\n",
       "      <th>total_bedrooms</th>\n",
       "      <th>population</th>\n",
       "      <th>households</th>\n",
       "      <th>median_income</th>\n",
       "      <th>median_house_value</th>\n",
       "      <th>ocean_proximity</th>\n",
       "    </tr>\n",
       "  </thead>\n",
       "  <tbody>\n",
       "    <tr>\n",
       "      <th>0</th>\n",
       "      <td>-122.23</td>\n",
       "      <td>37.88</td>\n",
       "      <td>41.0</td>\n",
       "      <td>880.0</td>\n",
       "      <td>129.0</td>\n",
       "      <td>322.0</td>\n",
       "      <td>126.0</td>\n",
       "      <td>8.3252</td>\n",
       "      <td>452600.0</td>\n",
       "      <td>NEAR BAY</td>\n",
       "    </tr>\n",
       "    <tr>\n",
       "      <th>1</th>\n",
       "      <td>-122.22</td>\n",
       "      <td>37.86</td>\n",
       "      <td>21.0</td>\n",
       "      <td>7099.0</td>\n",
       "      <td>1106.0</td>\n",
       "      <td>2401.0</td>\n",
       "      <td>1138.0</td>\n",
       "      <td>8.3014</td>\n",
       "      <td>358500.0</td>\n",
       "      <td>NEAR BAY</td>\n",
       "    </tr>\n",
       "    <tr>\n",
       "      <th>2</th>\n",
       "      <td>-122.24</td>\n",
       "      <td>37.85</td>\n",
       "      <td>52.0</td>\n",
       "      <td>1467.0</td>\n",
       "      <td>190.0</td>\n",
       "      <td>496.0</td>\n",
       "      <td>177.0</td>\n",
       "      <td>7.2574</td>\n",
       "      <td>352100.0</td>\n",
       "      <td>NEAR BAY</td>\n",
       "    </tr>\n",
       "    <tr>\n",
       "      <th>3</th>\n",
       "      <td>-122.25</td>\n",
       "      <td>37.85</td>\n",
       "      <td>52.0</td>\n",
       "      <td>1274.0</td>\n",
       "      <td>235.0</td>\n",
       "      <td>558.0</td>\n",
       "      <td>219.0</td>\n",
       "      <td>5.6431</td>\n",
       "      <td>341300.0</td>\n",
       "      <td>NEAR BAY</td>\n",
       "    </tr>\n",
       "    <tr>\n",
       "      <th>4</th>\n",
       "      <td>-122.25</td>\n",
       "      <td>37.85</td>\n",
       "      <td>52.0</td>\n",
       "      <td>1627.0</td>\n",
       "      <td>280.0</td>\n",
       "      <td>565.0</td>\n",
       "      <td>259.0</td>\n",
       "      <td>3.8462</td>\n",
       "      <td>342200.0</td>\n",
       "      <td>NEAR BAY</td>\n",
       "    </tr>\n",
       "  </tbody>\n",
       "</table>\n",
       "</div>"
      ],
      "text/plain": [
       "   longitude  latitude  housing_median_age  total_rooms  total_bedrooms  \\\n",
       "0    -122.23     37.88                41.0        880.0           129.0   \n",
       "1    -122.22     37.86                21.0       7099.0          1106.0   \n",
       "2    -122.24     37.85                52.0       1467.0           190.0   \n",
       "3    -122.25     37.85                52.0       1274.0           235.0   \n",
       "4    -122.25     37.85                52.0       1627.0           280.0   \n",
       "\n",
       "   population  households  median_income  median_house_value ocean_proximity  \n",
       "0       322.0       126.0         8.3252            452600.0        NEAR BAY  \n",
       "1      2401.0      1138.0         8.3014            358500.0        NEAR BAY  \n",
       "2       496.0       177.0         7.2574            352100.0        NEAR BAY  \n",
       "3       558.0       219.0         5.6431            341300.0        NEAR BAY  \n",
       "4       565.0       259.0         3.8462            342200.0        NEAR BAY  "
      ]
     },
     "execution_count": 21,
     "metadata": {},
     "output_type": "execute_result"
    }
   ],
   "source": [
    "data.head()"
   ]
  },
  {
   "cell_type": "markdown",
   "metadata": {},
   "source": [
    "### Replacing null value by mean"
   ]
  },
  {
   "cell_type": "code",
   "execution_count": 22,
   "metadata": {
    "collapsed": true,
    "scrolled": true
   },
   "outputs": [],
   "source": [
    "#cleaning\n",
    "\n",
    "columns=['longitude','latitude','housing_median_age','total_rooms','total_bedrooms','population','households'\n",
    "         ,'median_income','median_house_value','ocean_proximity']\n",
    "\n",
    "for i in columns:\n",
    "    if(np.where(data.isnull()[i]==True)[0].shape!=(0,)):\n",
    "        data[i]=data[i].fillna(data[i].mean())\n",
    "data['intercept']=1"
   ]
  },
  {
   "cell_type": "markdown",
   "metadata": {},
   "source": [
    "### Convert category column into one hot vectors"
   ]
  },
  {
   "cell_type": "code",
   "execution_count": 23,
   "metadata": {},
   "outputs": [
    {
     "data": {
      "text/html": [
       "<div>\n",
       "<style>\n",
       "    .dataframe thead tr:only-child th {\n",
       "        text-align: right;\n",
       "    }\n",
       "\n",
       "    .dataframe thead th {\n",
       "        text-align: left;\n",
       "    }\n",
       "\n",
       "    .dataframe tbody tr th {\n",
       "        vertical-align: top;\n",
       "    }\n",
       "</style>\n",
       "<table border=\"1\" class=\"dataframe\">\n",
       "  <thead>\n",
       "    <tr style=\"text-align: right;\">\n",
       "      <th></th>\n",
       "      <th>longitude</th>\n",
       "      <th>latitude</th>\n",
       "      <th>housing_median_age</th>\n",
       "      <th>total_rooms</th>\n",
       "      <th>total_bedrooms</th>\n",
       "      <th>population</th>\n",
       "      <th>households</th>\n",
       "      <th>median_income</th>\n",
       "      <th>median_house_value</th>\n",
       "      <th>intercept</th>\n",
       "      <th>ocean_proximity_0</th>\n",
       "      <th>ocean_proximity_1</th>\n",
       "      <th>ocean_proximity_2</th>\n",
       "      <th>ocean_proximity_3</th>\n",
       "      <th>ocean_proximity_4</th>\n",
       "    </tr>\n",
       "  </thead>\n",
       "  <tbody>\n",
       "    <tr>\n",
       "      <th>0</th>\n",
       "      <td>-122.23</td>\n",
       "      <td>37.88</td>\n",
       "      <td>41.0</td>\n",
       "      <td>880.0</td>\n",
       "      <td>129.0</td>\n",
       "      <td>322.0</td>\n",
       "      <td>126.0</td>\n",
       "      <td>8.3252</td>\n",
       "      <td>452600.0</td>\n",
       "      <td>1</td>\n",
       "      <td>0.0</td>\n",
       "      <td>0.0</td>\n",
       "      <td>0.0</td>\n",
       "      <td>1.0</td>\n",
       "      <td>0.0</td>\n",
       "    </tr>\n",
       "    <tr>\n",
       "      <th>1</th>\n",
       "      <td>-122.22</td>\n",
       "      <td>37.86</td>\n",
       "      <td>21.0</td>\n",
       "      <td>7099.0</td>\n",
       "      <td>1106.0</td>\n",
       "      <td>2401.0</td>\n",
       "      <td>1138.0</td>\n",
       "      <td>8.3014</td>\n",
       "      <td>358500.0</td>\n",
       "      <td>1</td>\n",
       "      <td>0.0</td>\n",
       "      <td>0.0</td>\n",
       "      <td>0.0</td>\n",
       "      <td>1.0</td>\n",
       "      <td>0.0</td>\n",
       "    </tr>\n",
       "    <tr>\n",
       "      <th>2</th>\n",
       "      <td>-122.24</td>\n",
       "      <td>37.85</td>\n",
       "      <td>52.0</td>\n",
       "      <td>1467.0</td>\n",
       "      <td>190.0</td>\n",
       "      <td>496.0</td>\n",
       "      <td>177.0</td>\n",
       "      <td>7.2574</td>\n",
       "      <td>352100.0</td>\n",
       "      <td>1</td>\n",
       "      <td>0.0</td>\n",
       "      <td>0.0</td>\n",
       "      <td>0.0</td>\n",
       "      <td>1.0</td>\n",
       "      <td>0.0</td>\n",
       "    </tr>\n",
       "    <tr>\n",
       "      <th>3</th>\n",
       "      <td>-122.25</td>\n",
       "      <td>37.85</td>\n",
       "      <td>52.0</td>\n",
       "      <td>1274.0</td>\n",
       "      <td>235.0</td>\n",
       "      <td>558.0</td>\n",
       "      <td>219.0</td>\n",
       "      <td>5.6431</td>\n",
       "      <td>341300.0</td>\n",
       "      <td>1</td>\n",
       "      <td>0.0</td>\n",
       "      <td>0.0</td>\n",
       "      <td>0.0</td>\n",
       "      <td>1.0</td>\n",
       "      <td>0.0</td>\n",
       "    </tr>\n",
       "    <tr>\n",
       "      <th>4</th>\n",
       "      <td>-122.25</td>\n",
       "      <td>37.85</td>\n",
       "      <td>52.0</td>\n",
       "      <td>1627.0</td>\n",
       "      <td>280.0</td>\n",
       "      <td>565.0</td>\n",
       "      <td>259.0</td>\n",
       "      <td>3.8462</td>\n",
       "      <td>342200.0</td>\n",
       "      <td>1</td>\n",
       "      <td>0.0</td>\n",
       "      <td>0.0</td>\n",
       "      <td>0.0</td>\n",
       "      <td>1.0</td>\n",
       "      <td>0.0</td>\n",
       "    </tr>\n",
       "  </tbody>\n",
       "</table>\n",
       "</div>"
      ],
      "text/plain": [
       "   longitude  latitude  housing_median_age  total_rooms  total_bedrooms  \\\n",
       "0    -122.23     37.88                41.0        880.0           129.0   \n",
       "1    -122.22     37.86                21.0       7099.0          1106.0   \n",
       "2    -122.24     37.85                52.0       1467.0           190.0   \n",
       "3    -122.25     37.85                52.0       1274.0           235.0   \n",
       "4    -122.25     37.85                52.0       1627.0           280.0   \n",
       "\n",
       "   population  households  median_income  median_house_value  intercept  \\\n",
       "0       322.0       126.0         8.3252            452600.0          1   \n",
       "1      2401.0      1138.0         8.3014            358500.0          1   \n",
       "2       496.0       177.0         7.2574            352100.0          1   \n",
       "3       558.0       219.0         5.6431            341300.0          1   \n",
       "4       565.0       259.0         3.8462            342200.0          1   \n",
       "\n",
       "   ocean_proximity_0  ocean_proximity_1  ocean_proximity_2  ocean_proximity_3  \\\n",
       "0                0.0                0.0                0.0                1.0   \n",
       "1                0.0                0.0                0.0                1.0   \n",
       "2                0.0                0.0                0.0                1.0   \n",
       "3                0.0                0.0                0.0                1.0   \n",
       "4                0.0                0.0                0.0                1.0   \n",
       "\n",
       "   ocean_proximity_4  \n",
       "0                0.0  \n",
       "1                0.0  \n",
       "2                0.0  \n",
       "3                0.0  \n",
       "4                0.0  "
      ]
     },
     "execution_count": 23,
     "metadata": {},
     "output_type": "execute_result"
    }
   ],
   "source": [
    "#Category\n",
    "\n",
    "data['ocean_proximity']=data['ocean_proximity'].astype('category').cat.codes\n",
    "data=pd.get_dummies(data,columns=['ocean_proximity'])\n",
    "for i in range(5):\n",
    "    s='ocean_proximity_'+str(i)\n",
    "    data[s]=data[s].astype('float64')\n",
    "data.head()"
   ]
  },
  {
   "cell_type": "markdown",
   "metadata": {},
   "source": [
    "### Split data into train and test "
   ]
  },
  {
   "cell_type": "code",
   "execution_count": 24,
   "metadata": {
    "collapsed": true
   },
   "outputs": [],
   "source": [
    "#train-test split\n",
    "\n",
    "train=data.sample(frac=0.8,random_state=200)\n",
    "test=data.drop(train.index)\n",
    "\n",
    "trainy=train['median_house_value'].as_matrix()\n",
    "trainy=trainy.reshape(trainy.shape[0],1)\n",
    "trainx=train.drop(['median_house_value'],axis=1).as_matrix()\n",
    "\n",
    "testy=test['median_house_value'].as_matrix()\n",
    "testx=test.drop(['median_house_value'],axis=1).as_matrix()"
   ]
  },
  {
   "cell_type": "markdown",
   "metadata": {},
   "source": [
    "## Regression algorithm by various method"
   ]
  },
  {
   "cell_type": "markdown",
   "metadata": {},
   "source": [
    "### Closed form"
   ]
  },
  {
   "cell_type": "code",
   "execution_count": 26,
   "metadata": {},
   "outputs": [
    {
     "name": "stdout",
     "output_type": "stream",
     "text": [
      "train= 1.57415829209e+16\n",
      "test= 1.52516183813e+19\n",
      "training Time= 0.06035785454514553\n"
     ]
    }
   ],
   "source": [
    "#closed form\n",
    "a=time.clock()\n",
    "W=np.dot(np.linalg.inv(np.dot(X.T,X)),np.dot(X.T,Y))\n",
    "b=time.clock()\n",
    "pred=np.dot(X,W)\n",
    "print(\"train=\",np.square(pred-Y).sum())\n",
    "predtest=np.dot(testx,W)\n",
    "print(\"test=\",np.square(predtest-testy).sum())\n",
    "\n",
    "print(\"training Time=\",b-a)"
   ]
  },
  {
   "cell_type": "markdown",
   "metadata": {},
   "source": [
    "Using general closed from equation (X^T.X)^-1.X^T.Y"
   ]
  },
  {
   "cell_type": "markdown",
   "metadata": {},
   "source": [
    "### Gradient descent"
   ]
  },
  {
   "cell_type": "code",
   "execution_count": 31,
   "metadata": {},
   "outputs": [
    {
     "name": "stdout",
     "output_type": "stream",
     "text": [
      "train= 3.02272568048e+158\n",
      "test= 3.16741406167e+161\n",
      "training Time= 0.002078392299154075\n"
     ]
    }
   ],
   "source": [
    "#gradient descent\n",
    "W=np.random.rand(X.shape[1],Y.shape[1])\n",
    "alpha=0.5\n",
    "n=X.shape[0]\n",
    "reg=0.1\n",
    "a=time.clock()\n",
    "for i in range(10):\n",
    "    grad=2*(np.dot(X.T,np.dot(X,W)-Y))/n\n",
    "    W-=alpha*grad\n",
    "\n",
    "b=time.clock()\n",
    "pred=np.dot(X,W)\n",
    "\n",
    "print(\"train=\",np.square(pred-Y).sum())\n",
    "predtest=np.dot(testx,W)\n",
    "print(\"test=\",np.square(predtest-testy).sum())\n",
    "print(\"training Time=\",b-a)"
   ]
  },
  {
   "cell_type": "markdown",
   "metadata": {},
   "source": [
    "Gradient descent is iteratively used to update weight for best result.Equation used is 2/n*(X^T*w-y)"
   ]
  },
  {
   "cell_type": "markdown",
   "metadata": {},
   "source": [
    "### Newtons Method"
   ]
  },
  {
   "cell_type": "code",
   "execution_count": 38,
   "metadata": {},
   "outputs": [
    {
     "name": "stdout",
     "output_type": "stream",
     "text": [
      "(14, 14)\n",
      "train= 9.10382273855e+14\n",
      "test= 9.32637413611e+17\n",
      "training Time= 0.0014957318944652798\n"
     ]
    }
   ],
   "source": [
    "#Hessian\n",
    "\n",
    "W=np.random.rand(X.shape[1],Y.shape[1])\n",
    "alpha=0.5\n",
    "n=X.shape[0]\n",
    "a=time.clock()\n",
    "H=np.linalg.inv(np.dot(X.T,X))\n",
    "print(H.shape)\n",
    "grad=np.dot(X.T,np.dot(X,W)-Y)/n\n",
    "W=W-np.dot(H,grad)\n",
    "b=time.clock()\n",
    "pred=np.dot(X,W)\n",
    "print(\"train=\",np.square(pred-Y).sum())\n",
    "predtest=np.dot(testx,W)\n",
    "print(\"test=\",np.square(predtest-testy).sum())\n",
    "print(\"training Time=\",b-a)"
   ]
  },
  {
   "cell_type": "markdown",
   "metadata": {},
   "source": [
    "Newton Method is being applied calculating the hasseien matrix and then computing gradient and training time."
   ]
  },
  {
   "cell_type": "markdown",
   "metadata": {},
   "source": [
    "### Ridge Method"
   ]
  },
  {
   "cell_type": "code",
   "execution_count": 46,
   "metadata": {},
   "outputs": [
    {
     "name": "stdout",
     "output_type": "stream",
     "text": [
      "alpha= 0.1\n",
      "train= 7.89484435137e+13\n",
      "test= 3.64859034523e+17\n",
      "training Time= 0.0007437210042553488\n",
      "\n",
      "alpha= 0.5\n",
      "train= 7.93937428289e+13\n",
      "test= 3.63841079002e+17\n",
      "training Time= 0.0005984506606182549\n",
      "\n",
      "alpha= 1\n",
      "train= 7.98332569699e+13\n",
      "test= 3.63463250036e+17\n",
      "training Time= 0.0006671382689091843\n",
      "\n",
      "alpha= 0.01\n",
      "train= 7.89000399487e+13\n",
      "test= 3.65398696861e+17\n",
      "training Time= 0.0007062191507429816\n",
      "\n"
     ]
    }
   ],
   "source": [
    "#Ridge\n",
    "\n",
    "alpha=[0.1,0.5,1,0.01]\n",
    "for i in alpha:\n",
    "    print(\"alpha=\",i)\n",
    "    a=time.clock()\n",
    "\n",
    "    W=np.dot(np.linalg.inv(np.dot(X.T,X)+i*np.identity(14)),np.dot(X.T,Y))\n",
    "    b=time.clock()\n",
    "    pred=np.dot(X,W)\n",
    "    print(\"train=\",np.square(pred-Y).sum())\n",
    "    predtest=np.dot(testx,W)\n",
    "\n",
    "    print(\"test=\",np.square(predtest-testy).sum())\n",
    "\n",
    "    print(\"training Time=\",b-a)\n",
    "    print(\"\")"
   ]
  },
  {
   "cell_type": "markdown",
   "metadata": {},
   "source": [
    "### Lasso Method"
   ]
  },
  {
   "cell_type": "code",
   "execution_count": 43,
   "metadata": {},
   "outputs": [
    {
     "name": "stdout",
     "output_type": "stream",
     "text": [
      "alpha= 0.1\n"
     ]
    },
    {
     "name": "stderr",
     "output_type": "stream",
     "text": [
      "c:\\users\\asus\\anaconda3\\envs\\tensorflow\\lib\\site-packages\\sklearn\\linear_model\\coordinate_descent.py:466: ConvergenceWarning: Objective did not converge. You might want to increase the number of iterations\n",
      "  ConvergenceWarning)\n"
     ]
    },
    {
     "name": "stdout",
     "output_type": "stream",
     "text": [
      "train= 6.00764607905e+18\n",
      "test= 1.85532912672e+13\n",
      "training Time= 0.16465761990366445\n",
      "\n",
      "alpha= 0.5\n",
      "train= 6.00758315837e+18\n",
      "test= 1.85537269995e+13\n",
      "training Time= 0.19145802476487006\n",
      "\n",
      "alpha= 1\n",
      "train= 6.00750501873e+18\n",
      "test= 1.85542794166e+13\n",
      "training Time= 0.19038862975321535\n",
      "\n",
      "alpha= 0.01\n",
      "train= 6.0076602863e+18\n",
      "test= 1.85531939871e+13\n",
      "training Time= 0.16646797262728796\n",
      "\n"
     ]
    }
   ],
   "source": [
    "#Lasso\n",
    "\n",
    "from sklearn import linear_model\n",
    "alpha=[0.1,0.5,1,0.01]\n",
    "for i in alpha:\n",
    "    print(\"alpha=\",i)\n",
    "    clf=linear_model.Lasso(alpha=i)\n",
    "    a=time.clock()\n",
    "    clf.fit(X,Y)\n",
    "    b=time.clock()\n",
    "    pred=clf.predict(X)\n",
    "    print(\"train=\",np.square(pred-Y).sum())\n",
    "    predtest=clf.predict(testx)\n",
    "    print(\"test=\",np.square(predtest-testy).sum())\n",
    "    print(\"training Time=\",b-a)\n",
    "    print(\"\")"
   ]
  },
  {
   "cell_type": "markdown",
   "metadata": {},
   "source": [
    "Ridge and lasso help in solving the problem of overfitting.Ridge has been solved explicitly without using libraries while lasso is solved using library of scikit learn."
   ]
  }
 ],
 "metadata": {
  "kernelspec": {
   "display_name": "Python 3",
   "language": "python",
   "name": "python3"
  },
  "language_info": {
   "codemirror_mode": {
    "name": "ipython",
    "version": 3
   },
   "file_extension": ".py",
   "mimetype": "text/x-python",
   "name": "python",
   "nbconvert_exporter": "python",
   "pygments_lexer": "ipython3",
   "version": "3.6.1"
  }
 },
 "nbformat": 4,
 "nbformat_minor": 2
}
