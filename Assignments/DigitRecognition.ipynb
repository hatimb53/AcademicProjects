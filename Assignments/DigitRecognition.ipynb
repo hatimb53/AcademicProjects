{
 "cells": [
  {
   "cell_type": "code",
   "execution_count": null,
   "metadata": {
    "collapsed": true
   },
   "outputs": [],
   "source": [
    "import matplotlib.pyplot as plt\n",
    "import math\n",
    "import cv2\n",
    "import numpy as np\n",
    "%matplotlib inline\n",
    "img=plt.imread('test.png')\n",
    "\n",
    "\n",
    "\n",
    "#print(img)\n",
    "img=plt.imread('test.png')\n",
    "img=1-img[:,:,1]\n",
    "img=img.flatten()\n",
    "img1=np.zeros([1,784],dtype=float)\n",
    "img1[0]=img\n",
    "\n",
    "print(img1.shape)"
   ]
  },
  {
   "cell_type": "code",
   "execution_count": null,
   "metadata": {
    "collapsed": true
   },
   "outputs": [],
   "source": [
    "batch2 = mnist.train.next_batch(20)\n",
    "print(batch2[0].shape)\n",
    "img=plt.imread('test.png')\n",
    "print(batch2[0].shape)\n",
    "batch2=batch2[0][0].reshape(28,28)\n",
    "plt.imshow(img)\n",
    "plt.imshow(batch2)\n",
    "print(batch2)"
   ]
  },
  {
   "cell_type": "code",
   "execution_count": null,
   "metadata": {
    "collapsed": true
   },
   "outputs": [],
   "source": [
    "from tensorflow.examples.tutorials.mnist import input_data\n",
    "mnist = input_data.read_data_sets('MNIST_data', one_hot=True)\n",
    "import tensorflow as tf\n",
    "sess = tf.InteractiveSession()\n",
    "x = tf.placeholder(tf.float32, shape=[None, 784])\n",
    "y_ = tf.placeholder(tf.float32, shape=[None, 10])\n",
    "\n",
    "def weight_variable(shape):\n",
    "    initial = tf.truncated_normal(shape, stddev=0.1)\n",
    "    return tf.Variable(initial)\n",
    "\n",
    "def bias_variable(shape):\n",
    "    initial = tf.constant(0.1, shape=shape)\n",
    "    return tf.Variable(initial)\n",
    "\n",
    "def conv2d(x, W):\n",
    "    return tf.nn.conv2d(x, W, strides=[1, 1, 1, 1], padding='SAME')\n",
    "\n",
    "def max_pool_2x2(x):\n",
    "    \n",
    "    return tf.nn.max_pool(x, ksize=[1, 2, 2, 1],\n",
    "                        strides=[1, 2, 2, 1], padding='SAME')\n"
   ]
  },
  {
   "cell_type": "code",
   "execution_count": null,
   "metadata": {
    "collapsed": true
   },
   "outputs": [],
   "source": [
    "\n",
    "\n",
    "\n",
    "W_conv1 = weight_variable([5, 5, 1, 32])\n",
    "b_conv1 = bias_variable([32])\n",
    "tx_image = tf.reshape(x, [-1, 28, 28, 1])\n",
    "\n",
    "th_conv1 = tf.nn.relu(conv2d(tx_image, W_conv1) + b_conv1)\n",
    "\n",
    "\n",
    "th_pool1 = max_pool_2x2(th_conv1)\n",
    "\n",
    "\n",
    "W_conv2 = weight_variable([5, 5, 32, 64])\n",
    "b_conv2 = bias_variable([64])\n",
    "\n",
    "th_conv2 = tf.nn.relu(conv2d(th_pool1, W_conv2) + b_conv2)\n",
    "\n",
    "\n",
    "th_pool2 = max_pool_2x2(th_conv2)\n",
    "\n",
    "W_fc1 = weight_variable([7 * 7 * 64, 1024])\n",
    "b_fc1 = bias_variable([1024])\n",
    "\n",
    "th_pool2_flat = tf.reshape(th_pool2, [-1, 7*7*64])\n",
    "\n",
    "\n",
    "th_fc1 = tf.nn.relu(tf.matmul(th_pool2_flat, W_fc1) + b_fc1)\n",
    "\n",
    "\n",
    "\n",
    "\n",
    "W_fc2 = weight_variable([1024, 10])\n",
    "b_fc2 = bias_variable([10])\n",
    "\n",
    "ty_conv = tf.matmul(th_fc1, W_fc2) + b_fc2\n",
    "\n",
    "\n",
    "cross_entropy = tf.reduce_mean(\n",
    "    tf.nn.softmax_cross_entropy_with_logits(labels=y_, logits=ty_conv))\n",
    "train_step = tf.train.AdamOptimizer(1e-4).minimize(cross_entropy)\n",
    "correct_prediction = tf.equal(tf.argmax(ty_conv, 1), tf.argmax(y_, 1))\n",
    "accuracy = tf.reduce_mean(tf.cast(correct_prediction, tf.float32))\n",
    "\n",
    "sess = tf.InteractiveSession()\n",
    "sess.run(tf.global_variables_initializer())\n",
    "saver = tf.train.Saver()\n",
    "saver.restore(sess, \"tmp/model.ckpt\")\n"
   ]
  },
  {
   "cell_type": "code",
   "execution_count": null,
   "metadata": {
    "collapsed": true
   },
   "outputs": [],
   "source": [
    "sess.run(tf.global_variables_initializer())\n",
    "#print(W_conv1.eval())\n",
    "for i in range(20000):\n",
    "    batch = mnist.train.next_batch(50)\n",
    "    if i % 1000 == 0:\n",
    "            \n",
    "        print('step',i)\n",
    "    train_step.run(feed_dict={x: batch[0], y_: batch[1]})\n",
    "\n",
    "save_path = saver.save(sess, \"tmp/model.ckpt\")\n",
    "print(\"completed\")"
   ]
  },
  {
   "cell_type": "code",
   "execution_count": null,
   "metadata": {
    "collapsed": true
   },
   "outputs": [],
   "source": [
    "#saver.restore(sess, \"tmp/model.ckpt\")\n",
    "tmp=[]\n",
    "\n",
    "xx = tf.placeholder(tf.float32, shape=[1, 784])\n",
    "ximage = tf.reshape(xx, [-1, 28, 28, 1])\n",
    "\n",
    "\n",
    "h_conv1 = tf.nn.relu(conv2d(ximage, W_conv1) + b_conv1)\n",
    "tmp1=tf.Variable(tf.truncated_normal(tf.shape(h_conv1), stddev=0.1))\n",
    "\n",
    "hconv1=tf.assign(tmp1,h_conv1)\n",
    "\n",
    "h_pool1 = max_pool_2x2(hconv1)\n",
    "tmp2=tf.Variable(tf.truncated_normal(tf.shape(h_pool1), stddev=0.1))\n",
    "\n",
    "hpool1=tf.assign(tmp2,h_pool1)\n",
    "\n",
    "h_conv2 = tf.nn.relu(conv2d(hpool1, W_conv2) + b_conv2)\n",
    "tmp3=tf.Variable(tf.truncated_normal(tf.shape(h_conv2), stddev=0.1))\n",
    "hconv2=tf.assign(tmp3,h_conv2)\n",
    "\n",
    "h_pool2 = max_pool_2x2(hconv2)\n",
    "tmp4=tf.Variable(tf.truncated_normal(tf.shape(h_pool2), stddev=0.1))\n",
    "hpool2=tf.assign(tmp4,h_pool2)\n",
    "\n",
    "h_pool2_flat = tf.reshape(hpool2, [-1, 7*7*64])\n",
    "tmp44=tf.Variable(tf.truncated_normal(tf.shape(h_pool2_flat), stddev=0.1))\n",
    "hpool2flat=tf.assign(tmp44,h_pool2_flat)\n",
    "\n",
    "h_fc1 = tf.nn.relu(tf.matmul(hpool2flat, W_fc1) + b_fc1)\n",
    "tmp5=tf.Variable(tf.truncated_normal(tf.shape(h_fc1), stddev=0.1))\n",
    "hfc1=tf.assign(tmp5,h_fc1)\n",
    "\n",
    "\n",
    "\n",
    "\n",
    "y_conv = tf.matmul(hfc1, W_fc2) + b_fc2\n",
    "tmp6=tf.Variable(tf.truncated_normal(tf.shape(y_conv), stddev=0.1))\n",
    "yconv=tf.assign(tmp6,y_conv)\n"
   ]
  },
  {
   "cell_type": "code",
   "execution_count": null,
   "metadata": {
    "collapsed": true
   },
   "outputs": [],
   "source": [
    "class Layers:\n",
    "   \n",
    "    def fc(self, points, layer, prevLayer):\n",
    "        pnt1=[]\n",
    "        blobs=net.blobs[prevLayer][0]\n",
    "        if len(blobs.shape)>1:\n",
    "            blobs=blobs.flatten()\n",
    "        #print(points.shape,points)\n",
    "        \n",
    "        for i in points:\n",
    "        \n",
    "            pnt1.extend(np.where((np.multiply(blobs,net.params[layer][:,i])>0)==True))\n",
    "        #print(pnt1[0])\n",
    "        points=np.array(list(set(pnt1[0])))\n",
    "        \n",
    "        if len(net.blobs[prevLayer][0].shape)>1:\n",
    "            #print(blobs.shape)\n",
    "            t=np.array(np.unravel_index(points,net.blobs[prevLayer][0].shape))\n",
    "            #print(\"t=\",t.shape)\n",
    "            return t\n",
    "        #print(\"p=\",points)\n",
    "        return points\n",
    "\n",
    "    def pool(self, points, prevLayer, K, S):\n",
    "        #print(points.shape,points)\n",
    "        x1=[]\n",
    "        y1=[]\n",
    "        z1=[]\n",
    "        b1=net.blobs[prevLayer][0]\n",
    "       \n",
    "        x,y,z=points\n",
    "        #print(\"shap=\",points.shape)\n",
    "        #print(x,y,z)\n",
    "        for i in range(points.shape[1]):\n",
    "            #print(np.argmax(b1[x[i]:x[i]+K,y[i]:y[i]+K,z[i]].flatten()))\n",
    "            t=np.array(np.unravel_index(np.argmax(b1[S*x[i]:S*x[i]+K,S*y[i]:S*y[i]+K,z[i]].flatten()),(K,K)))\n",
    "     \n",
    "            x1.append(S*x[i]+t[0])\n",
    "            y1.append(S*y[i]+t[1])\n",
    "            z1.append(z[i])\n",
    "        \n",
    "        points=np.array([np.array(x1),np.array(y1),np.array(z1)])\n",
    "        #points=np.array(list(set(points.T))).T\n",
    "        return points\n",
    "    \n",
    "    def conv(self, points, layer, prevLayer, K, S, P, group=False):\n",
    "        blob=np.copy(net.blobs[prevLayer][0])\n",
    "        w=net.params[layer]\n",
    "        pad=np.zeros((blob.shape[0],P,blob.shape[2]))\n",
    "        \n",
    "        pad1=np.zeros((P,blob.shape[1]+2*P,blob.shape[2]))\n",
    "        b2=np.concatenate((pad,np.concatenate((blob,pad),axis=1)),axis=1)\n",
    "        #print(\"b2=\",b2.shape,pad1.shape,pad.shape)\n",
    "        blob=np.concatenate((pad1,np.concatenate((b2,pad1),axis=0)),axis=0)\n",
    "        t=[]\n",
    "        x1=[]\n",
    "        y1=[]\n",
    "        z1=[]\n",
    "     \n",
    "        x,y,z=points\n",
    "        for j in range(points.shape[1]):\n",
    "            t=[]\n",
    "            #print(\"j=\",j)\n",
    "            for i in range(blob.shape[2]):\n",
    "               \n",
    "                t.append(np.sum(np.multiply(blob[x[j]:x[j]+w.shape[0],y[j]:y[j]+w.shape[1],i],w[:,:,i,z[j]])))\n",
    "            \n",
    "            z1.append(np.argmax(t))\n",
    "            x1.append(x[j])\n",
    "            y1.append(y[j])\n",
    "\n",
    "        points=[]\n",
    "        points.append(np.array(x1))\n",
    "        points.append(np.array(y1))\n",
    "        points.append(np.array(z1))\n",
    "        \n",
    "        points=np.array(points)\n",
    "        #points=np.array(list(set(points.T))).T\n",
    "        return points\n"
   ]
  },
  {
   "cell_type": "code",
   "execution_count": null,
   "metadata": {
    "collapsed": true
   },
   "outputs": [],
   "source": [
    "def MSNet(points,layers):\n",
    "    \n",
    "    points = layers.fc(points=points, layer='prob', prevLayer='fc1')\n",
    "    \n",
    "    points = layers.fc(points=points, layer='fc1', prevLayer='pool2')\n",
    "  \n",
    "    #print(\"sdfsdFSDF\",np.where(points[0]==6),np.where(points[1]==4),np.where(points[2]==15))\n",
    "    points = layers.pool(points=points, prevLayer='conv2', K=2, S=2)\n",
    "    points = layers.conv(points=points,  layer='conv2', prevLayer='pool1', K=3, S=1, P=2, group=True)\n",
    "   \n",
    "    points = layers.pool(points=points, prevLayer='conv1', K=2, S=2)\n",
    "    points = layers.conv(points=points,  layer='conv1', prevLayer='data', K=3, S=1, P=2, group=True)\n",
    "   \n",
    "    return points"
   ]
  },
  {
   "cell_type": "code",
   "execution_count": null,
   "metadata": {
    "collapsed": true
   },
   "outputs": [],
   "source": [
    "class Net:\n",
    "    def __init__(self):\n",
    "        #print(\"Df\")\n",
    "        self.blobs={}\n",
    "        self.params={}\n",
    "    def update(self,name,data,weights):\n",
    "        self.blobs[name]=data\n",
    "        self.params[name]=weights"
   ]
  },
  {
   "cell_type": "code",
   "execution_count": null,
   "metadata": {
    "collapsed": true
   },
   "outputs": [],
   "source": [
    "#print(batch[0].shape,img1.shape)\n",
    "import matplotlib.pyplot as plt\n",
    "img=plt.imread('test.png')\n",
    "\n",
    "img=1-img[:,:,1]\n",
    "img=img.flatten()\n",
    "img1=np.zeros([1,784],dtype=float)\n",
    "img1[0]=img\n",
    "x_image=img1.reshape(1,28,28,1)\n",
    "#print(x_image.shape)\n",
    "#img1=mnist.test.next_batch(1)[0]\n",
    "points=sess.run(tf.argmax(yconv,1),feed_dict={xx:img1})\n",
    "\n",
    "\n",
    "net=Net()\n",
    "\n",
    "net.update(\"data\",x_image,[])\n",
    "net.update(\"conv1\",tmp1.eval(),W_conv1.eval())\n",
    "net.update(\"pool1\",tmp2.eval(),[])\n",
    "net.update(\"conv2\",tmp3.eval(),W_conv2.eval())\n",
    "net.update(\"pool2\",tmp4.eval(),[])\n",
    "net.update(\"fc1\",tmp5.eval(),W_fc1.eval())\n",
    "net.update(\"prob\",tmp6.eval(),W_fc2.eval())\n",
    "\n",
    "print(\"result=\",points)\n",
    "\n",
    "layers=Layers()\n",
    "points=MSNet(points,layers)\n",
    "#print(\"M=\",np.array(points))\n",
    "points=np.array(points)\n",
    "#print(\"points=\",points.shape)\n",
    "def outlier_removal(points, diag,shape):\n",
    "    neighbors = np.zeros((points.shape[1]))\n",
    "    selpoints =[]\n",
    "    for i in range(points.shape[1]):\n",
    "        diff=np.sqrt(np.sum(np.square(points.T-points[:,i]) ,axis=1))\n",
    "        neighbors[i]=np.sum(diff<diag)\n",
    "    #print(\"outlier=\",points.shape[1])\n",
    "    for i in range(points.shape[1]):\n",
    "        #print(neighbors[i])\n",
    "        if neighbors[i] > 0.05*points.shape[1]:\n",
    "            \n",
    "            selpoints.append(points[:,i])    \n",
    "       \n",
    "    return np.array(selpoints)\n",
    "diag = math.sqrt(x_image.shape[1]**2 + x_image.shape[2]**2)*0.1\n",
    "points=outlier_removal(points,diag,(28,28)).T\n",
    "#print(\"points=\",points.shape)\n",
    "def heatmap(img, points, sigma=20):\n",
    "    k = (np.min(img.shape[1:3])) if (\n",
    "        np.min(img.shape[:2]) % 2 == 1) else (np.min(img.shape[:2])-1)\n",
    "    mask = np.zeros(img.shape[:2])\n",
    "    shape = mask.shape\n",
    "    #print(\"mask\",mask.shape)\n",
    "    for i in range(points.shape[1]):\n",
    "        # Check if inside the image\n",
    "        if points[0, i] < shape[0] and points[1,i] < shape[1]:\n",
    "            mask[points[0, i], points[1, i]] = 1\n",
    "    #print(\"mask=\",mask)\n",
    "    # Gaussian blur the points to get a nice heatmap\n",
    "    blur = cv2.GaussianBlur(mask, (27, 27), sigmaX=1,sigmaY=1)\n",
    "    blur = blur*255/np.max(blur)\n",
    "    #print(\"blur=\",blur.shape)\n",
    "    #_, ax = plt.subplots(1,2, figsize=(15, 5))\n",
    "    \n",
    "    \n",
    "    #ax[0].set_title('CNN Fixations')\n",
    "    plt.imshow(img)\n",
    "    plt.imshow(blur, 'jet', alpha=0.3),\n",
    "    #ax[1].imshow(img)\n",
    "    #ax[1].scatter(points[0, :], points[1, :]),\n",
    "    plt.show()\n",
    "    return blur\n",
    "img=plt.imread('test.png')\n",
    "heatmap(img,np.array(points))\n",
    "\n",
    "\n"
   ]
  },
  {
   "cell_type": "code",
   "execution_count": null,
   "metadata": {
    "collapsed": true
   },
   "outputs": [],
   "source": [
    "print(data[4][1])\n",
    "data1=np.random.shuffle(data)\n",
    "\n",
    "print(data[4][1])\n",
    "plt.imshow(data[4][0])\n",
    "data[0][0].shape"
   ]
  },
  {
   "cell_type": "code",
   "execution_count": 5,
   "metadata": {
    "collapsed": true
   },
   "outputs": [],
   "source": [
    "import pandas as pd\n",
    "import numpy as np\n",
    "import matplotlib.pyplot as plt\n",
    "import math\n",
    "import cv2\n",
    "import numpy as np\n",
    "data=pd.read_csv(\"../datasets/MODIFIED SWAROOP.csv\",header=None)"
   ]
  },
  {
   "cell_type": "code",
   "execution_count": 24,
   "metadata": {
    "collapsed": true
   },
   "outputs": [],
   "source": [
    "count=0\n",
    "while(data[6][count]!='WIPRO GATE'):\n",
    "    count+=1"
   ]
  },
  {
   "cell_type": "code",
   "execution_count": 25,
   "metadata": {},
   "outputs": [
    {
     "name": "stdout",
     "output_type": "stream",
     "text": [
      "129\n"
     ]
    }
   ],
   "source": [
    "print(count)"
   ]
  },
  {
   "cell_type": "code",
   "execution_count": 28,
   "metadata": {
    "collapsed": true
   },
   "outputs": [],
   "source": [
    "data1=data.loc[:count]"
   ]
  },
  {
   "cell_type": "code",
   "execution_count": 66,
   "metadata": {},
   "outputs": [
    {
     "data": {
      "image/png": "[encoded data removed]",
      "text/plain": [
       "<matplotlib.figure.Figure at 0x8e4ca6b8208>"
      ]
     },
     "metadata": {},
     "output_type": "display_data"
    }
   ],
   "source": [
    "plt.scatter(data1[2],data1[3])\n",
    "plt.show()"
   ]
  },
  {
   "cell_type": "code",
   "execution_count": 78,
   "metadata": {
    "collapsed": true
   },
   "outputs": [],
   "source": [
    "mask=np.zeros((np.power(100,1),np.power(100,1)))"
   ]
  },
  {
   "cell_type": "code",
   "execution_count": 86,
   "metadata": {},
   "outputs": [
    {
     "name": "stderr",
     "output_type": "stream",
     "text": [
      "c:\\users\\asus\\anaconda3\\envs\\tensorflow\\lib\\site-packages\\ipykernel_launcher.py:7: RuntimeWarning: divide by zero encountered in double_scalars\n",
      "  import sys\n"
     ]
    },
    {
     "data": {
      "image/png": "[encoded data removed]",
      "text/plain": [
       "<matplotlib.figure.Figure at 0x8e4ca7100f0>"
      ]
     },
     "metadata": {},
     "output_type": "display_data"
    }
   ],
   "source": [
    "import pandas as pd\n",
    "import numpy as np\n",
    "import matplotlib.pyplot as plt\n",
    "import math\n",
    "import cv2\n",
    "import numpy as np\n",
    "data=pd.read_csv(\"../datasets/MODIFIED SWAROOP.csv\",header=None)\n",
    "count=0\n",
    "while(data[6][count]!='WIPRO GATE'):\n",
    "    count+=1\n",
    "data1=data.loc[:count]\n",
    "mask=np.zeros((np.power(100,1),np.power(100,1)))\n",
    "for i in range(129,0,-1):\n",
    "        # Check if inside the image\n",
    "    lat=(int)(((data1[2][i]-12.82)/(12.92-12.82))*100)\n",
    "    long=(int)(((data1[3][i]-77.60)/(77.69-77.60))*100)\n",
    "    \n",
    "    mask[lat,long]=1/data1[10][i]\n",
    "    if(mask[lat,long]==math.inf):\n",
    "        \n",
    "        mask[lat,long]=100\n",
    "    #print(lat,long,mask[lat][long])\n",
    "    #print(\"mask=\",mask[lat,long])\n",
    "    # Gaussian blur the points to get a nice heatmap\n",
    "blur = cv2.GaussianBlur(mask,(999,999), sigmaX=1,sigmaY=1)\n",
    "blur = blur*255/np.max(blur)\n",
    "\n",
    "#print(\"blur=\",blur.shape)\n",
    "#print(blur)\n",
    "    #_, ax = plt.subplots(1,2, figsize=(15, 5))\n",
    "plt.imshow(blur, 'jet', alpha=1),\n",
    "    #ax[1].imshow(img)\n",
    "    #ax[1].scatter(points[0, :], points[1, :]),\n",
    "plt.show()"
   ]
  },
  {
   "cell_type": "code",
   "execution_count": null,
   "metadata": {
    "collapsed": true
   },
   "outputs": [],
   "source": []
  }
 ],
 "metadata": {
  "kernelspec": {
   "display_name": "Python 3",
   "language": "python",
   "name": "python3"
  },
  "language_info": {
   "codemirror_mode": {
    "name": "ipython",
    "version": 3
   },
   "file_extension": ".py",
   "mimetype": "text/x-python",
   "name": "python",
   "nbconvert_exporter": "python",
   "pygments_lexer": "ipython3",
   "version": "3.6.1"
  }
 },
 "nbformat": 4,
 "nbformat_minor": 2
}
