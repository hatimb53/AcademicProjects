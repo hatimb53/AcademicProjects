{
 "cells": [
  {
   "cell_type": "code",
   "execution_count": 185,
   "metadata": {
    "collapsed": true
   },
   "outputs": [],
   "source": [
    "import numpy as np\n",
    "import matplotlib.pyplot as plt\n"
   ]
  },
  {
   "cell_type": "code",
   "execution_count": 194,
   "metadata": {
    "collapsed": true
   },
   "outputs": [],
   "source": [
    "class Classifier:\n",
    "    def __init__(self,layer):\n",
    "        \n",
    "        self.weights=[]\n",
    "        self.bias=[]\n",
    "        self.flag=0;\n",
    "        \n",
    "        for i in range(layer.size-1):\n",
    "            self.weights.append(0.01*np.random.rand(layer[i],layer[i+1]).astype(float))\n",
    "            self.bias.append(np.zeros((1,layer[i+1])).astype(float))\n",
    "    \n",
    "    \n",
    "    def trainModel(self,x,y,layer):\n",
    "        iteration=200\n",
    "        step_size=0.01;\n",
    "        \n",
    "       \n",
    "        for it in range(iteration):\n",
    "            #forward pass\n",
    "            h=[]\n",
    "            h.append(x)\n",
    "            for i in range(layer.size-2):\n",
    "                if it==0:\n",
    "                    print(\"i=\",i)\n",
    "                h.append(self.sigmoid(np.dot(h[len(h)-1],self.weights[i])+self.bias[i]))\n",
    "           \n",
    "            #backward pass\n",
    "            dp=self.softmaxloss(self.softmax(h[len(h)-1],layer),h[len(h)-1],y,layer)\n",
    "            #print(dp.shape)\n",
    "            for i in reversed(range(len(layer)-2)):\n",
    "                if it==0:\n",
    "                    print(\"i=\",i)\n",
    "                    print(\"dp=\",dp.shape)\n",
    "                dp=np.dot(dp,self.weights[i+1].T)*self.sigmoidDeriv(h[i+1])\n",
    "                if it==0:\n",
    "                    \n",
    "                    print(\"dp=\",dp.shape)\n",
    "                self.weights[i]+=step_size*np.dot(h[i].T,dp)\n",
    "                self.bias[i]+=step_size*np.sum(dp)\n",
    "            #print(\"weights=\",self.weights)\n",
    "            #print(\"bias=\",self.bias)\n",
    "                    \n",
    "    def softmax(self,x,layer):\n",
    "        #print(\"x=\",x)\n",
    "        scores=np.dot(x,self.weights[layer.size-2]+self.bias[layer.size-2])\n",
    "        #print(\"Shape\",x.shape[0])\n",
    "        exp_scores = np.exp(scores)\n",
    "        probs = exp_scores / np.sum(exp_scores, axis=1, keepdims=True)\n",
    "        \n",
    "        return probs\n",
    "\n",
    "    def softmaxloss(self,probs,x,y,layer):\n",
    "        dscores=probs\n",
    "        #gradient of loss\n",
    "         #print(\"x=\",x)\n",
    "   \n",
    "        step_size=1;\n",
    "        num_examples=x.shape[0]\n",
    "        #print(dscores.shape,y)\n",
    "        \n",
    "        dscores[range(num_examples),y] -= 1\n",
    "        dscores /= x.shape[0]\n",
    "        #print(x.shape,dscores.shape)\n",
    "        dw= np.dot(x.T, dscores)\n",
    "        #print(\"dw=\",dw)\n",
    "        #print(\"dscore=\",dscores)\n",
    "        #print(\"x.T=\",x.T)\n",
    "        db = np.sum(dscores, axis=0, keepdims=True)\n",
    "        #print(db.shape,self.bias[layer.size-2].shape)\n",
    "        self.weights[layer.size-2] += step_size * dw\n",
    "        self.bias[layer.size-2]+=step_size*db\n",
    "        \n",
    "        return dscores\n",
    "    \n",
    "\n",
    "    def predict(self,x,y,layer):\n",
    "        h=x\n",
    "        \n",
    "        #print(\"h=\",h,self.weights[0])\n",
    "        #print(\"x=\",np.dot(h,self.weights[0])+self.bias[0])\n",
    "        for i in range(layer.size-2):\n",
    "            h=self.sigmoid(np.dot(h,self.weights[i])+self.bias[i])\n",
    "        #print(\"x=\",np.dot(h,self.weights[i])+self.bias[i])\n",
    "        #print(\"h=\",h)\n",
    "        #plt.scatter(x[:, 0], x[:, 1], c=h, s=50, cmap=plt.cm.Spectral)\n",
    "        #plt.show()\n",
    "        print(\"probs\",probs)\n",
    "        probs=self.softmax(h,layer)\n",
    "        y_=np.zeros(y.shape[0])\n",
    "        for i in range(y.shape[0]):\n",
    "            y_[i]=np.argmax(probs[i])\n",
    "            print(y[i],y_[i])\n",
    "        return y_\n",
    "    def sigmoidDeriv(self,x):\n",
    "        return x*(1-x)\n",
    "    \n",
    "    def sigmoid(self,x):\n",
    "        \n",
    "        return 1/(1+np.exp(-x))\n",
    "    \n",
    "\n",
    "    \n",
    "\n",
    "        \n",
    "        \n",
    "       "
   ]
  },
  {
   "cell_type": "code",
   "execution_count": 1,
   "metadata": {
    "collapsed": true
   },
   "outputs": [],
   "source": [
    "def loadData():\n",
    "    data=np.genfromtxt(\"iris.csv\",delimiter=',',dtype='str')\n",
    "    return [np.array(list(map(transformx,data[:,0:4]))),np.array(list(map(transformy,data[:,4])))]\n",
    "\n",
    "def transformy(y):\n",
    "  \n",
    "    if y=='Iris-setosa':\n",
    "        return 1\n",
    "    else:\n",
    "        return 0\n",
    "\n",
    "def transformx(x):\n",
    "    xx=np.random.rand(4).astype(float)\n",
    "    j=0;\n",
    "    for i in x:\n",
    "        xx[j]=float(i)\n",
    "        j+=1\n",
    "    return xx;\n"
   ]
  },
  {
   "cell_type": "code",
   "execution_count": 196,
   "metadata": {},
   "outputs": [
    {
     "name": "stderr",
     "output_type": "stream",
     "text": [
      "C:\\Users\\asus\\Anaconda3\\lib\\site-packages\\ipykernel_launcher.py:47: RuntimeWarning: overflow encountered in exp\n",
      "C:\\Users\\asus\\Anaconda3\\lib\\site-packages\\ipykernel_launcher.py:48: RuntimeWarning: invalid value encountered in true_divide\n"
     ]
    },
    {
     "ename": "UnboundLocalError",
     "evalue": "local variable 'probs' referenced before assignment",
     "output_type": "error",
     "traceback": [
      "\u001b[1;31m---------------------------------------------------------------------------\u001b[0m",
      "\u001b[1;31mUnboundLocalError\u001b[0m                         Traceback (most recent call last)",
      "\u001b[1;32m<ipython-input-196-8c4760bb0dea>\u001b[0m in \u001b[0;36m<module>\u001b[1;34m()\u001b[0m\n\u001b[0;32m     11\u001b[0m \u001b[1;33m\u001b[0m\u001b[0m\n\u001b[0;32m     12\u001b[0m \u001b[1;33m\u001b[0m\u001b[0m\n\u001b[1;32m---> 13\u001b[1;33m \u001b[0mrun\u001b[0m\u001b[1;33m(\u001b[0m\u001b[1;33m)\u001b[0m\u001b[1;33m\u001b[0m\u001b[0m\n\u001b[0m",
      "\u001b[1;32m<ipython-input-196-8c4760bb0dea>\u001b[0m in \u001b[0;36mrun\u001b[1;34m()\u001b[0m\n\u001b[0;32m      4\u001b[0m     \u001b[0mclassifier\u001b[0m\u001b[1;33m=\u001b[0m\u001b[0mClassifier\u001b[0m\u001b[1;33m(\u001b[0m\u001b[0mlayer\u001b[0m\u001b[1;33m)\u001b[0m\u001b[1;33m\u001b[0m\u001b[0m\n\u001b[0;32m      5\u001b[0m     \u001b[0mclassifier\u001b[0m\u001b[1;33m.\u001b[0m\u001b[0mtrainModel\u001b[0m\u001b[1;33m(\u001b[0m\u001b[0mx\u001b[0m\u001b[1;33m,\u001b[0m\u001b[0my\u001b[0m\u001b[1;33m,\u001b[0m\u001b[0mlayer\u001b[0m\u001b[1;33m)\u001b[0m\u001b[1;33m\u001b[0m\u001b[0m\n\u001b[1;32m----> 6\u001b[1;33m     \u001b[0my_\u001b[0m\u001b[1;33m=\u001b[0m\u001b[0mclassifier\u001b[0m\u001b[1;33m.\u001b[0m\u001b[0mpredict\u001b[0m\u001b[1;33m(\u001b[0m\u001b[0mx\u001b[0m\u001b[1;33m,\u001b[0m\u001b[0my\u001b[0m\u001b[1;33m,\u001b[0m\u001b[0mlayer\u001b[0m\u001b[1;33m)\u001b[0m\u001b[1;33m\u001b[0m\u001b[0m\n\u001b[0m\u001b[0;32m      7\u001b[0m     \u001b[0mplt\u001b[0m\u001b[1;33m.\u001b[0m\u001b[0mscatter\u001b[0m\u001b[1;33m(\u001b[0m\u001b[0mx\u001b[0m\u001b[1;33m[\u001b[0m\u001b[1;33m:\u001b[0m\u001b[1;33m,\u001b[0m \u001b[1;36m0\u001b[0m\u001b[1;33m]\u001b[0m\u001b[1;33m,\u001b[0m \u001b[0mx\u001b[0m\u001b[1;33m[\u001b[0m\u001b[1;33m:\u001b[0m\u001b[1;33m,\u001b[0m \u001b[1;36m1\u001b[0m\u001b[1;33m]\u001b[0m\u001b[1;33m,\u001b[0m \u001b[0mc\u001b[0m\u001b[1;33m=\u001b[0m\u001b[0my_\u001b[0m\u001b[1;33m,\u001b[0m \u001b[0ms\u001b[0m\u001b[1;33m=\u001b[0m\u001b[1;36m50\u001b[0m\u001b[1;33m,\u001b[0m \u001b[0mcmap\u001b[0m\u001b[1;33m=\u001b[0m\u001b[0mplt\u001b[0m\u001b[1;33m.\u001b[0m\u001b[0mcm\u001b[0m\u001b[1;33m.\u001b[0m\u001b[0mSpectral\u001b[0m\u001b[1;33m)\u001b[0m\u001b[1;33m\u001b[0m\u001b[0m\n\u001b[0;32m      8\u001b[0m     \u001b[0mplt\u001b[0m\u001b[1;33m.\u001b[0m\u001b[0mshow\u001b[0m\u001b[1;33m(\u001b[0m\u001b[1;33m)\u001b[0m\u001b[1;33m\u001b[0m\u001b[0m\n",
      "\u001b[1;32m<ipython-input-194-88ef3c51a154>\u001b[0m in \u001b[0;36mpredict\u001b[1;34m(self, x, y, layer)\u001b[0m\n\u001b[0;32m     85\u001b[0m         \u001b[1;31m#plt.scatter(x[:, 0], x[:, 1], c=h, s=50, cmap=plt.cm.Spectral)\u001b[0m\u001b[1;33m\u001b[0m\u001b[1;33m\u001b[0m\u001b[0m\n\u001b[0;32m     86\u001b[0m         \u001b[1;31m#plt.show()\u001b[0m\u001b[1;33m\u001b[0m\u001b[1;33m\u001b[0m\u001b[0m\n\u001b[1;32m---> 87\u001b[1;33m         \u001b[0mprint\u001b[0m\u001b[1;33m(\u001b[0m\u001b[1;34m\"probs\"\u001b[0m\u001b[1;33m,\u001b[0m\u001b[0mprobs\u001b[0m\u001b[1;33m)\u001b[0m\u001b[1;33m\u001b[0m\u001b[0m\n\u001b[0m\u001b[0;32m     88\u001b[0m         \u001b[0mprobs\u001b[0m\u001b[1;33m=\u001b[0m\u001b[0mself\u001b[0m\u001b[1;33m.\u001b[0m\u001b[0msoftmax\u001b[0m\u001b[1;33m(\u001b[0m\u001b[0mh\u001b[0m\u001b[1;33m,\u001b[0m\u001b[0mlayer\u001b[0m\u001b[1;33m)\u001b[0m\u001b[1;33m\u001b[0m\u001b[0m\n\u001b[0;32m     89\u001b[0m         \u001b[0my_\u001b[0m\u001b[1;33m=\u001b[0m\u001b[0mnp\u001b[0m\u001b[1;33m.\u001b[0m\u001b[0mzeros\u001b[0m\u001b[1;33m(\u001b[0m\u001b[0my\u001b[0m\u001b[1;33m.\u001b[0m\u001b[0mshape\u001b[0m\u001b[1;33m[\u001b[0m\u001b[1;36m0\u001b[0m\u001b[1;33m]\u001b[0m\u001b[1;33m)\u001b[0m\u001b[1;33m\u001b[0m\u001b[0m\n",
      "\u001b[1;31mUnboundLocalError\u001b[0m: local variable 'probs' referenced before assignment"
     ]
    }
   ],
   "source": [
    "def run():\n",
    "    [x,y]=loadData()\n",
    "    layer=np.array([4,2])\n",
    "    classifier=Classifier(layer)\n",
    "    classifier.trainModel(x,y,layer)\n",
    "    y_=classifier.predict(x,y,layer)\n",
    "    plt.scatter(x[:, 0], x[:, 1], c=y_, s=50, cmap=plt.cm.Spectral)\n",
    "    plt.show()\n",
    "    plt.scatter(x[:, 0], x[:, 1], c=y, s=50, cmap=plt.cm.Spectral)\n",
    "    plt.show()\n",
    "    \n",
    "\n",
    "run()\n"
   ]
  },
  {
   "cell_type": "code",
   "execution_count": 197,
   "metadata": {},
   "outputs": [
    {
     "data": {
      "text/plain": [
       "<module 'numpy' from 'C:\\\\Users\\\\asus\\\\Anaconda3\\\\lib\\\\site-packages\\\\numpy\\\\__init__.py'>"
      ]
     },
     "execution_count": 197,
     "metadata": {},
     "output_type": "execute_result"
    }
   ],
   "source": [
    "np"
   ]
  },
  {
   "cell_type": "code",
   "execution_count": 190,
   "metadata": {},
   "outputs": [
    {
     "ename": "NameError",
     "evalue": "name 'layer' is not defined",
     "output_type": "error",
     "traceback": [
      "\u001b[1;31m---------------------------------------------------------------------------\u001b[0m",
      "\u001b[1;31mNameError\u001b[0m                                 Traceback (most recent call last)",
      "\u001b[1;32m<ipython-input-190-ff830898fafc>\u001b[0m in \u001b[0;36m<module>\u001b[1;34m()\u001b[0m\n\u001b[0;32m      1\u001b[0m \u001b[1;33m\u001b[0m\u001b[0m\n\u001b[1;32m----> 2\u001b[1;33m \u001b[0mlayer\u001b[0m\u001b[1;33m\u001b[0m\u001b[0m\n\u001b[0m",
      "\u001b[1;31mNameError\u001b[0m: name 'layer' is not defined"
     ]
    }
   ],
   "source": [
    "\n",
    "layer"
   ]
  },
  {
   "cell_type": "code",
   "execution_count": null,
   "metadata": {
    "collapsed": true
   },
   "outputs": [],
   "source": []
  },
  {
   "cell_type": "code",
   "execution_count": null,
   "metadata": {
    "collapsed": true
   },
   "outputs": [],
   "source": []
  },
  {
   "cell_type": "code",
   "execution_count": null,
   "metadata": {
    "collapsed": true
   },
   "outputs": [],
   "source": []
  },
  {
   "cell_type": "code",
   "execution_count": null,
   "metadata": {
    "collapsed": true
   },
   "outputs": [],
   "source": []
  }
 ],
 "metadata": {
  "kernelspec": {
   "display_name": "Python 3",
   "language": "python",
   "name": "python3"
  },
  "language_info": {
   "codemirror_mode": {
    "name": "ipython",
    "version": 3
   },
   "file_extension": ".py",
   "mimetype": "text/x-python",
   "name": "python",
   "nbconvert_exporter": "python",
   "pygments_lexer": "ipython3",
   "version": "3.5.4"
  }
 },
 "nbformat": 4,
 "nbformat_minor": 2
}
