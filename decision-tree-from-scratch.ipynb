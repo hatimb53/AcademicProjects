{
 "cells": [
  {
   "cell_type": "code",
   "execution_count": 1,
   "metadata": {},
   "outputs": [],
   "source": [
    "import numpy as np\n",
    "import pandas as pd\n",
    "import sys"
   ]
  },
  {
   "cell_type": "code",
   "execution_count": 2,
   "metadata": {},
   "outputs": [
    {
     "data": {
      "text/html": [
       "<div>\n",
       "<style>\n",
       "    .dataframe thead tr:only-child th {\n",
       "        text-align: right;\n",
       "    }\n",
       "\n",
       "    .dataframe thead th {\n",
       "        text-align: left;\n",
       "    }\n",
       "\n",
       "    .dataframe tbody tr th {\n",
       "        vertical-align: top;\n",
       "    }\n",
       "</style>\n",
       "<table border=\"1\" class=\"dataframe\">\n",
       "  <thead>\n",
       "    <tr style=\"text-align: right;\">\n",
       "      <th></th>\n",
       "      <th>5.1</th>\n",
       "      <th>3.5</th>\n",
       "      <th>1.4</th>\n",
       "      <th>0.2</th>\n",
       "      <th>Iris-setosa</th>\n",
       "    </tr>\n",
       "  </thead>\n",
       "  <tbody>\n",
       "    <tr>\n",
       "      <th>0</th>\n",
       "      <td>4.9</td>\n",
       "      <td>3.0</td>\n",
       "      <td>1.4</td>\n",
       "      <td>0.2</td>\n",
       "      <td>Iris-setosa</td>\n",
       "    </tr>\n",
       "    <tr>\n",
       "      <th>1</th>\n",
       "      <td>4.7</td>\n",
       "      <td>3.2</td>\n",
       "      <td>1.3</td>\n",
       "      <td>0.2</td>\n",
       "      <td>Iris-setosa</td>\n",
       "    </tr>\n",
       "    <tr>\n",
       "      <th>2</th>\n",
       "      <td>4.6</td>\n",
       "      <td>3.1</td>\n",
       "      <td>1.5</td>\n",
       "      <td>0.2</td>\n",
       "      <td>Iris-setosa</td>\n",
       "    </tr>\n",
       "    <tr>\n",
       "      <th>3</th>\n",
       "      <td>5.0</td>\n",
       "      <td>3.6</td>\n",
       "      <td>1.4</td>\n",
       "      <td>0.2</td>\n",
       "      <td>Iris-setosa</td>\n",
       "    </tr>\n",
       "    <tr>\n",
       "      <th>4</th>\n",
       "      <td>5.4</td>\n",
       "      <td>3.9</td>\n",
       "      <td>1.7</td>\n",
       "      <td>0.4</td>\n",
       "      <td>Iris-setosa</td>\n",
       "    </tr>\n",
       "  </tbody>\n",
       "</table>\n",
       "</div>"
      ],
      "text/plain": [
       "   5.1  3.5  1.4  0.2  Iris-setosa\n",
       "0  4.9  3.0  1.4  0.2  Iris-setosa\n",
       "1  4.7  3.2  1.3  0.2  Iris-setosa\n",
       "2  4.6  3.1  1.5  0.2  Iris-setosa\n",
       "3  5.0  3.6  1.4  0.2  Iris-setosa\n",
       "4  5.4  3.9  1.7  0.4  Iris-setosa"
      ]
     },
     "execution_count": 2,
     "metadata": {},
     "output_type": "execute_result"
    }
   ],
   "source": [
    "data=pd.read_csv(\"../../datasets/iris.csv\")\n",
    "data.head()"
   ]
  },
  {
   "cell_type": "code",
   "execution_count": 3,
   "metadata": {},
   "outputs": [],
   "source": [
    "data['Iris-setosa']=data['Iris-setosa'].astype('category')\n",
    "data['Iris-setosa']=data['Iris-setosa'].cat.codes\n",
    "y=data['Iris-setosa'].as_matrix()\n",
    "data=data.drop('Iris-setosa',axis=1)\n",
    "x=data.as_matrix()"
   ]
  },
  {
   "cell_type": "code",
   "execution_count": 4,
   "metadata": {},
   "outputs": [],
   "source": [
    "squarer = lambda x:(float)(\"{:.3f}\".format(x))\n",
    "vfunc = np.vectorize(squarer)\n",
    "x=vfunc(x)\n",
    "\n"
   ]
  },
  {
   "cell_type": "code",
   "execution_count": 28,
   "metadata": {},
   "outputs": [
    {
     "name": "stdout",
     "output_type": "stream",
     "text": [
      "1.0\n"
     ]
    }
   ],
   "source": [
    "print(np.min(x[:,2]))"
   ]
  },
  {
   "cell_type": "code",
   "execution_count": 8,
   "metadata": {},
   "outputs": [],
   "source": [
    "n_classes=np.unique(y, return_counts=False).shape[0]"
   ]
  },
  {
   "cell_type": "code",
   "execution_count": 32,
   "metadata": {},
   "outputs": [],
   "source": [
    "class DecisionTree:\n",
    "    class Node:\n",
    "        def __init__(self,k,alpha,impurity,label,id1):\n",
    "            self.left={}\n",
    "            self.right={}\n",
    "            self.parent={}\n",
    "            self.impurity={}\n",
    "            self.alpha=alpha\n",
    "            self.k=k\n",
    "            self.label=label\n",
    "            self.id=id1\n",
    "            \n",
    "            \n",
    "            \n",
    "    def __init__(self,imp,depth,n_classes):\n",
    "        self.root={}\n",
    "        self.imp=imp\n",
    "        self.depth=depth\n",
    "        self.n_classes=n_classes\n",
    "      \n",
    "        \n",
    "    \n",
    "    def I(self,x,y):\n",
    "        #print(\"I\")\n",
    "        if self.imp=='gini':\n",
    "            return self.gini(x,y)\n",
    "        elif self.imp=='misscl':\n",
    "            return self.misscl(x,y)\n",
    "        elif self.imp=='entropy':\n",
    "            return self.entropy(x,y)\n",
    "        elif self.imp=='regress':\n",
    "            return self.regressionCost(x,y)\n",
    "        \n",
    "        \n",
    "    def fit(self,x,y):\n",
    "        xd=[]\n",
    "        for i in range(x.shape[1]):\n",
    "            #print(x[:,i])\n",
    "            tmp=list(set(x[:,i]))\n",
    "            tmp.sort()\n",
    "            xd.append(list(map(lambda x:(float)(\"{:.3f}\".format(x)),tmp)))\n",
    "            \n",
    "        \n",
    "        Ix=self.I(x,y)\n",
    "        self.node_split(x,y,None,True,0,xd,Ix,\"0\")\n",
    "        \n",
    "    def calculateP(self,x,y):\n",
    "        pi=[]\n",
    "        \n",
    "        for i in range(self.n_classes):\n",
    "            if(len(y)==0):\n",
    "                pi.append(0)\n",
    "            else:\n",
    "                pi.append(len(y[y==i])/len(y))\n",
    "        return pi\n",
    "        \n",
    "    def misscl(self,x,y):\n",
    "        pi=np.array(self.calculateP(x,y))\n",
    "        return 1-np.argamax(pi)\n",
    "    \n",
    "    def entropy(self,x,y):\n",
    "        \n",
    "        pi=np.array(self.calculateP(x,y))\n",
    "        #print(\"pi=\",pi)\n",
    "        sm=0\n",
    "        for i in range(pi.shape[0]):\n",
    "            if(pi[i]!=0):\n",
    "                sm+=pi[i]*np.log(pi[i])\n",
    "        #print(\"sum=\",sm)\n",
    "        return -sm\n",
    "     \n",
    "    \n",
    "    def gini(self,x,y):\n",
    "        pi=np.array(self.calculateP(x,y))\n",
    "        return np.sum(pi*(1-pi))\n",
    "        \n",
    "    def regress(self,x,y):\n",
    "        return np.var(y)\n",
    "        \n",
    "    \n",
    "    def node_split(self,x,y,nd,b,depth,xd,Ix,st):\n",
    "    \n",
    "        \n",
    "        print(\"St=\",st,\" depth=\",depth,\" b=\",b,\" Ix=\",Ix)\n",
    "        if depth==self.depth or Ix==0 :\n",
    "            \n",
    "            label={}\n",
    "            if self.imp=='regers':\n",
    "                label=y.mean()\n",
    "            else:\n",
    "                unique, counts = np.unique(y, return_counts=True)\n",
    "                p=dict(zip(unique, counts))\n",
    "              \n",
    "                label=max(p, key=p.get)\n",
    "                print(\"label=\",label)\n",
    "            node=self.Node(None,None,Ix,label,st)\n",
    "            return\n",
    "       \n",
    "        mn=10000000.0\n",
    "        #print(\"mn=\",mn)\n",
    "        kk=0\n",
    "        ii=0\n",
    "        xty={}\n",
    "        xtn={}\n",
    "        yty={}\n",
    "        ytn={}\n",
    "        xy={}\n",
    "        xn={}\n",
    "        for k in range(x.shape[1]):\n",
    "            \n",
    "            #print(\"k=\",k,\" len=\",len(xd[k]))\n",
    "            \n",
    "            for i in range(len(xd[k])):\n",
    "                #print(\"i=\",i)\n",
    "                xty=x[(x[:,k]>xd[k][0]) & (x[:,k]<=xd[k][i])]\n",
    "                xtn=x[(x[:,k]>=xd[k][i]) & (x[:,k]<xd[k][len(xd[k])-1])]\n",
    "                yty=y[(x[:,k]>xd[k][0] )& (x[:,k]<=xd[k][i])]\n",
    "                ytn=y[(x[:,k]>=xd[k][i]) & (x[:,k]<xd[k][len(xd[k])-1])]\n",
    "                \n",
    "                p=len(xty)/len(x)\n",
    "                #print(p)\n",
    "                \n",
    "                Ixty=self.I(xty,yty)\n",
    "                Ixtn=self.I(xtn,ytn)\n",
    "                #print(\" Ixty=\",Ixty,\" Ixtn=\",Ixtn,\" p=\",p,\" \",str(p*Ixty+(1-p)*Ixtn))\n",
    "                \n",
    "                if(mn>p*Ixty+(1-p)*Ixtn and Ix-(p*Ixty+(1-p)*Ixtn >0)):\n",
    "                    gy=Ixty\n",
    "                    kk=k\n",
    "                    mn=p*Ixty+(1-p)*Ixtn\n",
    "                    ii=i\n",
    "                    gn=Ixtn\n",
    "                    xy=np.copy(xty)\n",
    "                    xn=np.copy(xtn)\n",
    "                    yy=np.copy(yty)\n",
    "                    yn=np.copy(ytn)\n",
    "                \n",
    "        #print(\"I(x)=\",Ix,\" I(xty)=\",gy,\" I(xny)=\",gn,\" p=\",p,\" kk=\",kk,\" ii=\",ii,\" mn=\",mn)\n",
    "        #print(len(xd[kk]))\n",
    "        #print(\"\")\n",
    "        #print(\"\")\n",
    "        node=self.Node(kk,xd[kk][ii],Ix,None,st)\n",
    "        if nd==None:\n",
    "            self.root=node\n",
    "        \n",
    "        if b and nd!= None:\n",
    "            nd.left=node\n",
    "        elif nd!= None:\n",
    "            nd.right=node\n",
    "        node.parent=nd\n",
    "        \n",
    "    \n",
    "        xd1=np.copy(xd)\n",
    "       # print(\"shape=\",xy.shape[0],xn.shape[0])\n",
    "        print(node.k,node.alpha)\n",
    "        if  xy.shape[0]>0:\n",
    "            xd1[kk]=xd[kk][:ii]\n",
    "            self.node_split(xy,yy,node,True,depth+1,xd1,gy,st+\"t\")\n",
    "        if  xn.shape[0]>0:\n",
    "            xd1[kk]=xd[kk][ii+1:]\n",
    "            self.node_split(xn,yn,node,False,depth+1,xd1,gn,st+\"f\")\n",
    "        \n",
    "    def predict(self,x):\n",
    "        node=self.root\n",
    "        y=[]\n",
    "        for i in range(x.shape[0]):\n",
    "            while(node!=None):\n",
    "                print(node)\n",
    "                tmp=node.label\n",
    "                \n",
    "                if x[i,node.k]<=node.alpha:\n",
    "                    node=node.left\n",
    "                elif x[i,node.k]>node.alpha:\n",
    "                    node=node.right\n",
    "                \n",
    "            y.append(tmp)\n",
    "        y=np.array(y)\n",
    "        return y\n",
    "                    \n",
    "                    \n",
    "                \n",
    "        \n",
    "        "
   ]
  },
  {
   "cell_type": "code",
   "execution_count": 33,
   "metadata": {},
   "outputs": [],
   "source": [
    "decisiontree=DecisionTree('entropy',50,n_classes)"
   ]
  },
  {
   "cell_type": "code",
   "execution_count": 34,
   "metadata": {},
   "outputs": [
    {
     "name": "stdout",
     "output_type": "stream",
     "text": [
      "St= 0  depth= 0  b= True  Ix= 1.09856714386\n",
      "2 3.0\n",
      "St= 0t  depth= 1  b= True  Ix= 0.0996233894662\n",
      "2 1.0\n",
      "St= 0tf  depth= 2  b= False  Ix= -0.0\n",
      "label= 0\n",
      "St= 0f  depth= 1  b= False  Ix= 0.69309616449\n",
      "3 1.7\n",
      "St= 0ft  depth= 2  b= True  Ix= 0.308495450831\n",
      "3 1.3\n",
      "St= 0ftt  depth= 3  b= True  Ix= -0.0\n",
      "label= 1\n",
      "St= 0ftf  depth= 3  b= False  Ix= 0.304636097349\n",
      "2 4.9\n",
      "St= 0ftft  depth= 4  b= True  Ix= -0.0\n",
      "label= 1\n",
      "St= 0ftff  depth= 4  b= False  Ix= 0.673011667009\n",
      "2 5.0\n",
      "St= 0ftfff  depth= 5  b= False  Ix= -0.0\n",
      "label= 2\n",
      "St= 0ff  depth= 2  b= False  Ix= 0.184907399168\n",
      "3 1.9\n",
      "St= 0fft  depth= 3  b= True  Ix= -0.0\n",
      "label= 2\n",
      "St= 0fff  depth= 3  b= False  Ix= -0.0\n",
      "label= 2\n"
     ]
    }
   ],
   "source": [
    "decisiontree.fit(x,y)"
   ]
  },
  {
   "cell_type": "code",
   "execution_count": 412,
   "metadata": {},
   "outputs": [
    {
     "name": "stdout",
     "output_type": "stream",
     "text": [
      "<__main__.DecisionTree.Node object at 0x0000020A34F13CF8>\n",
      "<__main__.DecisionTree.Node object at 0x0000020A34F26080>\n",
      "{}\n"
     ]
    },
    {
     "ename": "AttributeError",
     "evalue": "'dict' object has no attribute 'label'",
     "output_type": "error",
     "traceback": [
      "\u001b[1;31m---------------------------------------------------------------------------\u001b[0m",
      "\u001b[1;31mAttributeError\u001b[0m                            Traceback (most recent call last)",
      "\u001b[1;32m<ipython-input-412-62266d361677>\u001b[0m in \u001b[0;36m<module>\u001b[1;34m()\u001b[0m\n\u001b[1;32m----> 1\u001b[1;33m \u001b[0mpredict\u001b[0m\u001b[1;33m=\u001b[0m\u001b[0mdecisiontree\u001b[0m\u001b[1;33m.\u001b[0m\u001b[0mpredict\u001b[0m\u001b[1;33m(\u001b[0m\u001b[0mx\u001b[0m\u001b[1;33m)\u001b[0m\u001b[1;33m\u001b[0m\u001b[0m\n\u001b[0m",
      "\u001b[1;32m<ipython-input-400-964fd31ca2a6>\u001b[0m in \u001b[0;36mpredict\u001b[1;34m(self, x)\u001b[0m\n\u001b[0;32m    162\u001b[0m             \u001b[1;32mwhile\u001b[0m\u001b[1;33m(\u001b[0m\u001b[0mnode\u001b[0m\u001b[1;33m!=\u001b[0m\u001b[1;32mNone\u001b[0m\u001b[1;33m)\u001b[0m\u001b[1;33m:\u001b[0m\u001b[1;33m\u001b[0m\u001b[0m\n\u001b[0;32m    163\u001b[0m                 \u001b[0mprint\u001b[0m\u001b[1;33m(\u001b[0m\u001b[0mnode\u001b[0m\u001b[1;33m)\u001b[0m\u001b[1;33m\u001b[0m\u001b[0m\n\u001b[1;32m--> 164\u001b[1;33m                 \u001b[0mtmp\u001b[0m\u001b[1;33m=\u001b[0m\u001b[0mnode\u001b[0m\u001b[1;33m.\u001b[0m\u001b[0mlabel\u001b[0m\u001b[1;33m\u001b[0m\u001b[0m\n\u001b[0m\u001b[0;32m    165\u001b[0m \u001b[1;33m\u001b[0m\u001b[0m\n\u001b[0;32m    166\u001b[0m                 \u001b[1;32mif\u001b[0m \u001b[0mx\u001b[0m\u001b[1;33m[\u001b[0m\u001b[0mi\u001b[0m\u001b[1;33m,\u001b[0m\u001b[0mnode\u001b[0m\u001b[1;33m.\u001b[0m\u001b[0mk\u001b[0m\u001b[1;33m]\u001b[0m\u001b[1;33m<=\u001b[0m\u001b[0mnode\u001b[0m\u001b[1;33m.\u001b[0m\u001b[0malpha\u001b[0m\u001b[1;33m:\u001b[0m\u001b[1;33m\u001b[0m\u001b[0m\n",
      "\u001b[1;31mAttributeError\u001b[0m: 'dict' object has no attribute 'label'"
     ]
    }
   ],
   "source": [
    "predict=decisiontree.predict(x)"
   ]
  },
  {
   "cell_type": "code",
   "execution_count": 189,
   "metadata": {},
   "outputs": [
    {
     "data": {
      "text/plain": [
       "True"
      ]
     },
     "execution_count": 189,
     "metadata": {},
     "output_type": "execute_result"
    }
   ],
   "source": [
    "mn=-0\n",
    "b=0\n",
    "b==mn"
   ]
  },
  {
   "cell_type": "code",
   "execution_count": 206,
   "metadata": {},
   "outputs": [
    {
     "data": {
      "text/plain": [
       "array([[ 1,  4],\n",
       "       [ 9, 16]])"
      ]
     },
     "execution_count": 206,
     "metadata": {},
     "output_type": "execute_result"
    }
   ],
   "source": [
    "import numpy as np\n",
    "x = np.array([[1,2],[3,4]])\n",
    "squarer = lambda t: t ** 2\n",
    "vfunc = np.vectorize(squarer)\n",
    "vfunc(x)"
   ]
  },
  {
   "cell_type": "code",
   "execution_count": 260,
   "metadata": {},
   "outputs": [],
   "source": [
    "o=np.random.rand(4,2)\n",
    "\n",
    "o[2,:]=[1,2]"
   ]
  },
  {
   "cell_type": "code",
   "execution_count": 272,
   "metadata": {},
   "outputs": [
    {
     "name": "stdout",
     "output_type": "stream",
     "text": [
      "[[1, 2, 3, 4], [4, 5, 6, 7, 8]]\n",
      "[[1, 2, 3, 4] [4, 5]]\n",
      "[[1, 2, 3, 4], [4, 5, 6, 7, 8]]\n"
     ]
    }
   ],
   "source": [
    "p=list([list([1,2,3,4]),list([4,5,6,7,8])])\n",
    "print(p)\n",
    "def func(p):\n",
    "    p1=np.copy(p)\n",
    "    \n",
    "    p1[1]=p1[1][:2]\n",
    "    print(p1)\n",
    "func(p)\n",
    "#print(tmp)\n",
    "#p[1]=tmp\n",
    "print(p)"
   ]
  },
  {
   "cell_type": "code",
   "execution_count": 290,
   "metadata": {},
   "outputs": [],
   "source": [
    "x=np.random.randint(100,size=(100,4))"
   ]
  },
  {
   "cell_type": "code",
   "execution_count": 296,
   "metadata": {},
   "outputs": [],
   "source": [
    "a=\n",
    "b="
   ]
  },
  {
   "cell_type": "code",
   "execution_count": 304,
   "metadata": {},
   "outputs": [
    {
     "ename": "ValueError",
     "evalue": "The truth value of an array with more than one element is ambiguous. Use a.any() or a.all()",
     "output_type": "error",
     "traceback": [
      "\u001b[1;31m---------------------------------------------------------------------------\u001b[0m",
      "\u001b[1;31mValueError\u001b[0m                                Traceback (most recent call last)",
      "\u001b[1;32m<ipython-input-304-683ebf93386d>\u001b[0m in \u001b[0;36m<module>\u001b[1;34m()\u001b[0m\n\u001b[1;32m----> 1\u001b[1;33m \u001b[1;33m(\u001b[0m\u001b[0mx\u001b[0m\u001b[1;33m[\u001b[0m\u001b[1;33m:\u001b[0m\u001b[1;33m,\u001b[0m\u001b[1;36m2\u001b[0m\u001b[1;33m]\u001b[0m\u001b[1;33m<\u001b[0m\u001b[1;36m40\u001b[0m\u001b[1;33m)\u001b[0m \u001b[1;32mand\u001b[0m \u001b[1;33m(\u001b[0m\u001b[0mx\u001b[0m\u001b[1;33m[\u001b[0m\u001b[1;33m:\u001b[0m\u001b[1;33m,\u001b[0m\u001b[1;36m2\u001b[0m\u001b[1;33m]\u001b[0m\u001b[1;33m<\u001b[0m\u001b[1;36m20\u001b[0m\u001b[1;33m)\u001b[0m\u001b[1;33m\u001b[0m\u001b[0m\n\u001b[0m",
      "\u001b[1;31mValueError\u001b[0m: The truth value of an array with more than one element is ambiguous. Use a.any() or a.all()"
     ]
    }
   ],
   "source": [
    "(x[:,2]<40) and (x[:,2]<20)"
   ]
  },
  {
   "cell_type": "code",
   "execution_count": 391,
   "metadata": {},
   "outputs": [
    {
     "data": {
      "text/plain": [
       "2"
      ]
     },
     "execution_count": 391,
     "metadata": {},
     "output_type": "execute_result"
    }
   ],
   "source": [
    "def t():\n",
    "    "
   ]
  },
  {
   "cell_type": "code",
   "execution_count": null,
   "metadata": {},
   "outputs": [],
   "source": []
  }
 ],
 "metadata": {
  "kernelspec": {
   "display_name": "Python 3",
   "language": "python",
   "name": "python3"
  },
  "language_info": {
   "codemirror_mode": {
    "name": "ipython",
    "version": 3
   },
   "file_extension": ".py",
   "mimetype": "text/x-python",
   "name": "python",
   "nbconvert_exporter": "python",
   "pygments_lexer": "ipython3",
   "version": "3.7.6"
  }
 },
 "nbformat": 4,
 "nbformat_minor": 2
}
